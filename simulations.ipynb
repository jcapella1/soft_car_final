{
 "cells": [
  {
   "cell_type": "code",
   "execution_count": 1,
   "metadata": {},
   "outputs": [
    {
     "name": "stdout",
     "output_type": "stream",
     "text": [
      "g r b g g \n",
      "b y g y y \n",
      "b r b b y \n",
      "g g b r r \n",
      "g y g r b \n",
      "Score: 0\n",
      "((1, 1), (2, 1))\n"
     ]
    }
   ],
   "source": [
    "from framework import Board, group_chk\n",
    "import solvers"
   ]
  },
  {
   "cell_type": "code",
   "execution_count": null,
   "metadata": {},
   "outputs": [],
   "source": []
  }
 ],
 "metadata": {
  "kernelspec": {
   "display_name": "Python 3.9.1 64-bit",
   "language": "python",
   "name": "python3"
  },
  "language_info": {
   "codemirror_mode": {
    "name": "ipython",
    "version": 3
   },
   "file_extension": ".py",
   "mimetype": "text/x-python",
   "name": "python",
   "nbconvert_exporter": "python",
   "pygments_lexer": "ipython3",
   "version": "3.9.1"
  },
  "orig_nbformat": 4,
  "vscode": {
   "interpreter": {
    "hash": "62e1475e49afd3d5ce085d3e3d115fa84bf07b9402be79ed5dcdf0c92bf9d988"
   }
  }
 },
 "nbformat": 4,
 "nbformat_minor": 2
}
