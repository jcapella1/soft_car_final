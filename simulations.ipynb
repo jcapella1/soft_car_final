{
 "cells": [
  {
   "attachments": {},
   "cell_type": "markdown",
   "metadata": {},
   "source": [
    "A script that tests different solving algorithms designed to maximize points"
   ]
  },
  {
   "cell_type": "code",
   "execution_count": 3,
   "metadata": {},
   "outputs": [],
   "source": [
    "from framework import *\n",
    "from solvers import *\n",
    "import matplotlib.pyplot as plt"
   ]
  },
  {
   "attachments": {},
   "cell_type": "markdown",
   "metadata": {},
   "source": [
    "Games will be played on a default board size of 5 for 10 turns"
   ]
  },
  {
   "cell_type": "code",
   "execution_count": 4,
   "metadata": {},
   "outputs": [],
   "source": [
    "def game(turns=10, solver=\"brute force\", loops=1):\n",
    "    '''\n",
    "    A function that will automatically run games and return their scores using\n",
    "    one of the solver algorithms\n",
    "    \n",
    "    Inputs:\n",
    "        turns (int): the number of rounds to play\n",
    "        solver (str): the solver method to use - \"brute force\" or \"empirical\"\n",
    "        loops (int): if using \"empirical\", the number of loops to run\n",
    "\n",
    "    Returns:\n",
    "        score (int): the final score of the game\n",
    "    '''\n",
    "    # Initialize a board\n",
    "    board = Board()\n",
    "\n",
    "    # Every turn, pick a pair to swap based on the solver method\n",
    "    for i in range(turns):\n",
    "        if solver == \"brute force\":\n",
    "            pair = brute_force(board)\n",
    "        elif solver == \"empirical\":\n",
    "            pair = empirical(board, loops)\n",
    "    \n",
    "        board.swap(pair[0], pair[1])\n",
    "\n",
    "    # Return the score of the game\n",
    "    return board.score"
   ]
  },
  {
   "attachments": {},
   "cell_type": "markdown",
   "metadata": {},
   "source": [
    "Brute force, empirical (no repeats), empirical (20 repeats), and human scores will be evaluated"
   ]
  },
  {
   "cell_type": "code",
   "execution_count": 5,
   "metadata": {},
   "outputs": [],
   "source": [
    "bf_scores = [game() for i in range(1000)]"
   ]
  },
  {
   "cell_type": "code",
   "execution_count": 6,
   "metadata": {},
   "outputs": [],
   "source": [
    "emp_scores = [game(solver=\"empirical\") for i in range(1000)]"
   ]
  },
  {
   "cell_type": "code",
   "execution_count": 7,
   "metadata": {},
   "outputs": [],
   "source": [
    "emp_scores20 = [game(solver=\"empirical\", loops=20) for i in range(1000)]"
   ]
  },
  {
   "cell_type": "code",
   "execution_count": 8,
   "metadata": {},
   "outputs": [],
   "source": [
    "jonah_scores = [36, 22, 35, 41, 37, 39, 39, 30, 30, 37, 42, 77, 81, 38, 29, 25, 32, 35, 41, 29, 22, 33]"
   ]
  },
  {
   "attachments": {},
   "cell_type": "markdown",
   "metadata": {},
   "source": [
    "Plot each score in a box plot for easy visualization"
   ]
  },
  {
   "cell_type": "code",
   "execution_count": 9,
   "metadata": {},
   "outputs": [
    {
     "data": {
      "image/png": "[encoded data removed]",
      "text/plain": [
       "<Figure size 432x288 with 1 Axes>"
      ]
     },
     "metadata": {
      "needs_background": "light"
     },
     "output_type": "display_data"
    }
   ],
   "source": [
    "emp_mean = sum(emp_scores)/len(emp_scores)\n",
    "plt.boxplot([bf_scores, jonah_scores, emp_scores, emp_scores20], labels=[\"Brute Force\", \"Jonah\", \"Empirical 1\", \"Empirical 20\"])\n",
    "plt.style.use(\"fivethirtyeight\")\n",
    "plt.show()"
   ]
  }
 ],
 "metadata": {
  "kernelspec": {
   "display_name": "Python 3.9.1 64-bit",
   "language": "python",
   "name": "python3"
  },
  "language_info": {
   "codemirror_mode": {
    "name": "ipython",
    "version": 3
   },
   "file_extension": ".py",
   "mimetype": "text/x-python",
   "name": "python",
   "nbconvert_exporter": "python",
   "pygments_lexer": "ipython3",
   "version": "3.9.1"
  },
  "orig_nbformat": 4,
  "vscode": {
   "interpreter": {
    "hash": "62e1475e49afd3d5ce085d3e3d115fa84bf07b9402be79ed5dcdf0c92bf9d988"
   }
  }
 },
 "nbformat": 4,
 "nbformat_minor": 2
}
